{
 "cells": [
  {
   "cell_type": "code",
   "execution_count": null,
   "id": "119169ad-b9d1-498e-8209-2e53fab8ad54",
   "metadata": {},
   "outputs": [],
   "source": [
    "import requests\n",
    "from bs4 import BeautifulSoup\n",
    "\n",
    "# Target news website\n",
    "URL = \"https://www.bbc.com/news\"  # Example: BBC News\n",
    "HEADERS_COUNT = 20\n",
    "\n",
    "# Send HTTP request\n",
    "response = requests.get(URL)\n",
    "soup = BeautifulSoup(response.content, 'html.parser')\n",
    "\n",
    "headlines = []\n",
    "\n",
    "for h in soup.find_all(['h1', 'h2', 'h3'], limit=20):  # Fetch extra in case of duplicates\n",
    "    text = h.get_text(strip=True)\n",
    "    if text and text not in headlines:\n",
    "        headlines.append(text)\n",
    "    if len(headlines) >= HEADERS_COUNT:\n",
    "        break\n",
    "\n",
    "# Output headlines\n",
    "for i, title in enumerate(headlines, 1):\n",
    "    print(f\"{i}. {title}\")"
   ]
  }
 ],
 "metadata": {
  "kernelspec": {
   "display_name": "Python 3 (ipykernel)",
   "language": "python",
   "name": "python3"
  },
  "language_info": {
   "codemirror_mode": {
    "name": "ipython",
    "version": 3
   },
   "file_extension": ".py",
   "mimetype": "text/x-python",
   "name": "python",
   "nbconvert_exporter": "python",
   "pygments_lexer": "ipython3",
   "version": "3.12.7"
  }
 },
 "nbformat": 4,
 "nbformat_minor": 5
}
